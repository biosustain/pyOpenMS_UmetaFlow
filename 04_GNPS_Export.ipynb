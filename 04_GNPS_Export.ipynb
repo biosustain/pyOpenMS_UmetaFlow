{
 "cells": [
  {
   "cell_type": "markdown",
   "metadata": {},
   "source": [
    "Import libraries"
   ]
  },
  {
   "cell_type": "code",
   "execution_count": 1,
   "metadata": {},
   "outputs": [],
   "source": [
    "import os\n",
    "import glob\n",
    "import sys\n",
    "from pyopenms import *\n",
    "import pandas as pd\n",
    "pd.set_option('future.no_silent_downcasting', True)"
   ]
  },
  {
   "cell_type": "markdown",
   "metadata": {},
   "source": [
    "# `GNPSExport Workflow`"
   ]
  },
  {
   "attachments": {},
   "cell_type": "markdown",
   "metadata": {},
   "source": [
    "This workflow consists of 4 steps that generate a directory with all the files necessary to create a FBMN job at GNPS. (see https://ccms-ucsd.github.io/GNPSDocumentation/featurebasedmolecularnetworking-with-openms/) \n",
    "\n",
    "![GNPSExport.png](images/GNPSExport.png)"
   ]
  },
  {
   "cell_type": "markdown",
   "metadata": {},
   "source": [
    "#### `1) Create a metadata tsv file for GNPS`"
   ]
  },
  {
   "cell_type": "code",
   "execution_count": 2,
   "metadata": {},
   "outputs": [
    {
     "data": {
      "text/html": [
       "<div>\n",
       "<style scoped>\n",
       "    .dataframe tbody tr th:only-of-type {\n",
       "        vertical-align: middle;\n",
       "    }\n",
       "\n",
       "    .dataframe tbody tr th {\n",
       "        vertical-align: top;\n",
       "    }\n",
       "\n",
       "    .dataframe thead th {\n",
       "        text-align: right;\n",
       "    }\n",
       "</style>\n",
       "<table border=\"1\" class=\"dataframe\">\n",
       "  <thead>\n",
       "    <tr style=\"text-align: right;\">\n",
       "      <th></th>\n",
       "      <th>filename</th>\n",
       "      <th>ATTRIBUTE_MAPID</th>\n",
       "      <th>ATTRIBUTE_genomeID</th>\n",
       "      <th>ATTRIBUTE_media</th>\n",
       "      <th>ATTRIBUTE_comment</th>\n",
       "    </tr>\n",
       "  </thead>\n",
       "  <tbody>\n",
       "    <tr>\n",
       "      <th>0</th>\n",
       "      <td>Blank.mzML</td>\n",
       "      <td>MAP0</td>\n",
       "      <td>NaN</td>\n",
       "      <td>NaN</td>\n",
       "      <td>nan_nan</td>\n",
       "    </tr>\n",
       "    <tr>\n",
       "      <th>1</th>\n",
       "      <td>Control.mzML</td>\n",
       "      <td>MAP1</td>\n",
       "      <td>NaN</td>\n",
       "      <td>NaN</td>\n",
       "      <td>nan_nan</td>\n",
       "    </tr>\n",
       "    <tr>\n",
       "      <th>2</th>\n",
       "      <td>Pool.mzML</td>\n",
       "      <td>MAP2</td>\n",
       "      <td>NaN</td>\n",
       "      <td>NaN</td>\n",
       "      <td>nan_nan</td>\n",
       "    </tr>\n",
       "    <tr>\n",
       "      <th>3</th>\n",
       "      <td>Treatment.mzML</td>\n",
       "      <td>MAP3</td>\n",
       "      <td>NaN</td>\n",
       "      <td>NaN</td>\n",
       "      <td>nan_nan</td>\n",
       "    </tr>\n",
       "  </tbody>\n",
       "</table>\n",
       "</div>"
      ],
      "text/plain": [
       "         filename ATTRIBUTE_MAPID ATTRIBUTE_genomeID ATTRIBUTE_media  \\\n",
       "0      Blank.mzML            MAP0                NaN             NaN   \n",
       "1    Control.mzML            MAP1                NaN             NaN   \n",
       "2       Pool.mzML            MAP2                NaN             NaN   \n",
       "3  Treatment.mzML            MAP3                NaN             NaN   \n",
       "\n",
       "  ATTRIBUTE_comment  \n",
       "0           nan_nan  \n",
       "1           nan_nan  \n",
       "2           nan_nan  \n",
       "3           nan_nan  "
      ]
     },
     "execution_count": 2,
     "metadata": {},
     "output_type": "execute_result"
    }
   ],
   "source": [
    "path= os.path.join(\"results\", \"GNPSexport\")\n",
    "isExist= os.path.exists(path)\n",
    "if not isExist:\n",
    "    os.mkdir(path)\n",
    "\n",
    "# Create a metadata table from the list of mzML files \n",
    "\n",
    "metadata = pd.DataFrame()\n",
    "metadata[\"filename\"] = [file for file in os.listdir(os.path.join(\"data\", \"mzML\")) if file.endswith(\".mzML\")]\n",
    "metadata[\"ATTRIBUTE_MAPID\"] = [\"MAP\" + str(i) for i in range(len(metadata))]\n",
    "metadata['ATTRIBUTE_genomeID'] = metadata['filename'].str.extract(r'(NBC_?\\d*)')\n",
    "metadata['ATTRIBUTE_genomeIDMDNA'] = metadata['filename'].str.extract(r'(MDNAWGS?\\d*|MDNA_WGS_?\\d*)')\n",
    "metadata['ATTRIBUTE_genomeID'] = metadata['ATTRIBUTE_genomeID'].fillna(metadata['ATTRIBUTE_genomeIDMDNA'])\n",
    "metadata[\"ATTRIBUTE_media\"] = metadata['filename'].str.extract(r'(ISP2|DNPM|FPY12|MA|soyM\\d*)')\n",
    "metadata[\"ATTRIBUTE_comment\"] = metadata['ATTRIBUTE_genomeID'].astype(str) +\"_\" + metadata[\"ATTRIBUTE_media\"].astype(str)\n",
    "metadata=metadata.drop(columns = \"ATTRIBUTE_genomeIDMDNA\")\n",
    "metadata.to_csv(os.path.join(path, \"metadata.tsv\"), sep='\\t')\n",
    "metadata"
   ]
  },
  {
   "cell_type": "markdown",
   "metadata": {},
   "source": [
    "Import aligned feature files and load them to a FeatureMap() file"
   ]
  },
  {
   "cell_type": "markdown",
   "metadata": {},
   "source": [
    "#### `2) File Filter` \n",
    "\n",
    "Remove the features that do not have an MS2 pattern\n",
    "\n",
    "###### Documentation: https://abibuilder.informatik.uni-tuebingen.de/archive/openms/Documentation/release/latest/html/TOPP_FileFilter.html"
   ]
  },
  {
   "cell_type": "code",
   "execution_count": null,
   "metadata": {},
   "outputs": [
    {
     "name": "stdout",
     "output_type": "stream",
     "text": [
      "blub\n"
     ]
    }
   ],
   "source": [
    "path= os.path.join(\"results\", \"interim\", \"GNPSexport\")\n",
    "isExist= os.path.exists(path)\n",
    "if not isExist:\n",
    "    os.mkdir(path)\n",
    "\n",
    "# Use Requantification consensus map if it exists, else use the one from Preprocessing\n",
    "input_consensus = os.path.join(\"results\", \"interim\", \n",
    "                               \"Requantification\" if os.path.exists(os.path.join(\"results\", \"interim\", \"Requantification\")) else \"Preprocessing\",\n",
    "                               \"consensus.consensusXML\")\n",
    "\n",
    "cmap = ConsensusMap()\n",
    "ConsensusXMLFile().load(input_consensus, cmap)\n",
    "new_map= ConsensusMap(cmap)\n",
    "new_map.clear(False)\n",
    "for f in cmap:\n",
    "    if f.getPeptideIdentifications() !=[]:\n",
    "        new_map.push_back(f)\n",
    "\n",
    "if new_map.empty():\n",
    "    print(\"WARNING: No features with MS2 information. GNPSExport will output an empty file.\")\n",
    "\n",
    "Consensus_file= os.path.join(path ,'filtered' + \".consensusXML\")\n",
    "ConsensusXMLFile().store(Consensus_file, new_map)"
   ]
  },
  {
   "cell_type": "markdown",
   "metadata": {},
   "source": [
    "#### `3) MSMS clustering`\n",
    "\n",
    "The algorithm creates an MGF file with only the MS2 information of all files (introduce mzml files with spaces between them)\n",
    "\n",
    "###### Documentation: https://abibuilder.informatik.uni-tuebingen.de/archive/openms/Documentation/nightly/html/TOPP_GNPSExport.html"
   ]
  },
  {
   "cell_type": "code",
   "execution_count": 4,
   "metadata": {},
   "outputs": [],
   "source": [
    "mzML_files = glob.glob(os.path.join(\"results\", \"interim\", \"mzML\", \"MapAligned_*.mzML\"))\n",
    "\n",
    "out_file = os.path.join(\"results\", \"GNPSexport\", \"MSMS.mgf\")\n",
    "spectra_clustering = GNPSMGFFile()\n",
    "spectra_clustering.store(Consensus_file.encode(), [s.encode() for s in mzML_files], out_file.encode())"
   ]
  },
  {
   "cell_type": "markdown",
   "metadata": {},
   "source": [
    "#### `4) FeatureQuantificationTable.txt`\n",
    "\n",
    "Convert the consensusXML file to a txt file for GNPS"
   ]
  },
  {
   "cell_type": "code",
   "execution_count": 5,
   "metadata": {},
   "outputs": [],
   "source": [
    "GNPSQuantificationFile().store(new_map, os.path.join(\"results\", \"GNPSexport\", \"FeatureQuantificationTable.txt\"))"
   ]
  },
  {
   "cell_type": "markdown",
   "metadata": {},
   "source": [
    "#### `5) IIMN (Ion Identity Molecular Networking)`:\n",
    "\n",
    "https://ccms-ucsd.github.io/GNPSDocumentation/fbmn-iin/#iimn-networks-with-collapsed-ion-identity-edges"
   ]
  },
  {
   "cell_type": "code",
   "execution_count": 6,
   "metadata": {},
   "outputs": [],
   "source": [
    "IonIdentityMolecularNetworking().annotateConsensusMap(new_map)\n",
    "IonIdentityMolecularNetworking().writeSupplementaryPairTable(new_map, os.path.join(\"results\", \"GNPSexport\", \"SupplementaryPairTable.csv\"))"
   ]
  }
 ],
 "metadata": {
  "kernelspec": {
   "display_name": "Python 3",
   "language": "python",
   "name": "python3"
  },
  "language_info": {
   "codemirror_mode": {
    "name": "ipython",
    "version": 3
   },
   "file_extension": ".py",
   "mimetype": "text/x-python",
   "name": "python",
   "nbconvert_exporter": "python",
   "pygments_lexer": "ipython3",
   "version": "3.12.0"
  }
 },
 "nbformat": 4,
 "nbformat_minor": 4
}
